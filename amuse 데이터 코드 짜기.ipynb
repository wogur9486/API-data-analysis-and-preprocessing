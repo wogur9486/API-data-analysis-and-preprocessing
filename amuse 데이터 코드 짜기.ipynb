{
 "cells": [
  {
   "cell_type": "code",
   "execution_count": 44,
   "id": "74b7a5da",
   "metadata": {},
   "outputs": [],
   "source": [
    "import requests\n",
    "from bs4 import BeautifulSoup\n",
    "import re\n",
    "from konlpy.tag import Okt\n",
    "from collections import Counter\n",
    "import pandas as pd\n",
    "from wordcloud import WordCloud\n",
    "import matplotlib.pyplot as plt\n",
    "import time\n",
    "\n",
    "#DB 작업\n",
    "import pymysql"
   ]
  },
  {
   "cell_type": "code",
   "execution_count": 45,
   "id": "a5ff0df5",
   "metadata": {},
   "outputs": [],
   "source": [
    "# 파일 로드\n",
    "def load_file(fileName):\n",
    "    return pd.read_csv(f'data/{fileName}', encoding='cp949', index_col=0)"
   ]
  },
  {
   "cell_type": "code",
   "execution_count": 46,
   "id": "403fa519",
   "metadata": {
    "scrolled": true
   },
   "outputs": [],
   "source": [
    "# place_name 갖고오기\n",
    "def get_key(amuse):\n",
    "    keyword_list=[]\n",
    "    for keyword in amuse['place_name']:\n",
    "        #print(keyword)\n",
    "        keyword = keyword.replace(\" \", \"+\")\n",
    "        keyword_list.append(keyword)\n",
    "    return keyword_list"
   ]
  },
  {
   "cell_type": "code",
   "execution_count": 58,
   "id": "400dae18",
   "metadata": {},
   "outputs": [],
   "source": []
  },
  {
   "cell_type": "code",
   "execution_count": 48,
   "id": "6f1087a2",
   "metadata": {},
   "outputs": [],
   "source": [
    "def text_cleaning(text) :\n",
    "    hangul = re.compile('[^ ㄱ-ㅣ가-힣]+')\n",
    "    result = hangul.sub('', text)\n",
    "    return result"
   ]
  },
  {
   "cell_type": "code",
   "execution_count": 49,
   "id": "08b116c3",
   "metadata": {},
   "outputs": [],
   "source": [
    "def filtering_keyword(titleList):\n",
    "            \n",
    "# 한글만 추출하기\n",
    "    titleList = list(map(lambda x:text_cleaning(x), titleList))\n",
    "    #print(titleList)\n",
    "    \n",
    "    title_corpus = \" \".join(titleList) # 추출한 각 요소를 띄어쓰기로 join\n",
    "    nouns_tagger = Okt() # 형태소 초기화\n",
    "    nouns = nouns_tagger.nouns(title_corpus) # 명사 추출\n",
    "    \n",
    "    count = Counter(nouns) # 명사 갯수 세기\n",
    "\n",
    "    #print(count)\n",
    "    \n",
    "    remove_char_counter = Counter({x:count[x] for x in count if len(x) > 1})    # 데이터 길이가 1보다 큰 것만 필터링\n",
    "    #print(remove_char_counter)\n",
    "    \n",
    "    # 불용어 처리 경로 지정\n",
    "    korean_stopwords_path = \"data/stopwords-ko.txt\"\n",
    "    \n",
    "    # stopwords 파일 열기\n",
    "    with open(korean_stopwords_path, encoding='utf8') as f:\n",
    "        stopwords = f.readlines()\n",
    "    stopwords = [x.strip() for x in stopwords]\n",
    "    \n",
    "     # 위에서 필터링한 리스트를 하나씩 for 문 돌려서 stopwords에 해당되지 않는 것만 갯수 세기\n",
    "    remove_char_counter = Counter({x:remove_char_counter[x] for x in remove_char_counter if x not in stopwords})\n",
    "    #print(remove_char_counter)\n",
    "\n",
    "    return remove_char_counter\n",
    "    "
   ]
  },
  {
   "cell_type": "code",
   "execution_count": 50,
   "id": "2ab216e0",
   "metadata": {},
   "outputs": [],
   "source": [
    "\n",
    "def trans_dict(remove_char_counter):\n",
    "\n",
    "    # 빈도수 오름차순으로 50개 가져오기\n",
    "    ranked_tags = remove_char_counter.most_common(50) # 빈도순 n개 단어\n",
    "    # 딕셔너리로 변환\n",
    "    ranked_tags = dict(ranked_tags)\n",
    "    # 단어와 빈도를 dataframe으로 갖고오기\n",
    "    df = pd.DataFrame(ranked_tags.items(), columns=['단어', '빈도'])\n",
    "    \n",
    "    return df"
   ]
  },
  {
   "cell_type": "code",
   "execution_count": 59,
   "id": "f6a6c7e7",
   "metadata": {
    "scrolled": true
   },
   "outputs": [
    {
     "name": "stdout",
     "output_type": "stream",
     "text": [
      "https://search.daum.net/search?w=news&nil_search=btn&DA=PGD&enc=utf8&cluster=y&cluster_page=1&q=이월드&p=1\n",
      "https://search.daum.net/search?w=news&nil_search=btn&DA=PGD&enc=utf8&cluster=y&cluster_page=1&q=이월드&p=2\n",
      "https://search.daum.net/search?w=news&nil_search=btn&DA=PGD&enc=utf8&cluster=y&cluster_page=1&q=이월드&p=3\n",
      "https://search.daum.net/search?w=news&nil_search=btn&DA=PGD&enc=utf8&cluster=y&cluster_page=1&q=이월드&p=4\n",
      "https://search.daum.net/search?w=news&nil_search=btn&DA=PGD&enc=utf8&cluster=y&cluster_page=1&q=이월드&p=5\n",
      "https://search.daum.net/search?w=news&nil_search=btn&DA=PGD&enc=utf8&cluster=y&cluster_page=1&q=이월드&p=6\n",
      "https://search.daum.net/search?w=news&nil_search=btn&DA=PGD&enc=utf8&cluster=y&cluster_page=1&q=이월드&p=7\n",
      "https://search.daum.net/search?w=news&nil_search=btn&DA=PGD&enc=utf8&cluster=y&cluster_page=1&q=이월드&p=8\n",
      "https://search.daum.net/search?w=news&nil_search=btn&DA=PGD&enc=utf8&cluster=y&cluster_page=1&q=이월드&p=9\n",
      "https://search.daum.net/search?w=news&nil_search=btn&DA=PGD&enc=utf8&cluster=y&cluster_page=1&q=이월드&p=10\n",
      "       단어   빈도\n",
      "0     이월드  255\n",
      "1      대구  167\n",
      "2      테마   58\n",
      "3      파크   48\n",
      "4     이랜드   45\n",
      "5      축제   44\n",
      "6      할인   40\n",
      "7      튤립   30\n",
      "8     달서구   30\n",
      "9      랜드   28\n",
      "10     라라   27\n",
      "11     서울   27\n",
      "12     더위   23\n",
      "13    패밀리   21\n",
      "14   어린이날   21\n",
      "15     벚꽃   21\n",
      "16     토스   20\n",
      "17    공정식   19\n",
      "18     개최   19\n",
      "19     월드   19\n",
      "20     가정   18\n",
      "21     행사   18\n",
      "22     현장   18\n",
      "23    피크닉   16\n",
      "24     경북   16\n",
      "25    블라썸   15\n",
      "26    초여름   15\n",
      "27    위스키   15\n",
      "28  티웨이항공   14\n",
      "29    어린이   14\n",
      "30     상장   14\n",
      "31     거래   14\n",
      "32     루미   13\n",
      "33    네이션   13\n",
      "34    입장권   13\n",
      "35   페스티벌   12\n",
      "36     타워   12\n",
      "37     최고   12\n",
      "38     날씨   12\n",
      "39  아쿠아리움   12\n",
      "40     해피   11\n",
      "41     달리   11\n",
      "42     주가   11\n",
      "43     추진   11\n",
      "44    이벤트   10\n",
      "45     주년   10\n",
      "46    트래블   10\n",
      "47     세계   10\n",
      "48     자유   10\n",
      "49    포인트   10\n"
     ]
    }
   ],
   "source": [
    "rawData = url_raw(get_key(load_file('pj1_amusementpark_01.csv')))\n",
    "\n",
    "print(trans_dict(filtering_keyword(rawData)))\n",
    "\n",
    "\n",
    "\n",
    "\n"
   ]
  },
  {
   "cell_type": "markdown",
   "id": "c85b78f9",
   "metadata": {},
   "source": [
    "\n",
    "# DB 작업 시작"
   ]
  },
  {
   "cell_type": "code",
   "execution_count": 53,
   "id": "d88f09d8",
   "metadata": {},
   "outputs": [],
   "source": [
    "'''\n",
    "# MariaDB 연결\n",
    "conn = pymysql.connect(host='192.168.0.103', user='user1', password='u1234', db='dbmaria', charset='utf8')\n",
    "# 커서 생성\n",
    "cur = conn.cursor()\n",
    "'''\n",
    "\n",
    "\n"
   ]
  },
  {
   "cell_type": "code",
   "execution_count": 56,
   "id": "88d2679e",
   "metadata": {},
   "outputs": [
    {
     "name": "stdout",
     "output_type": "stream",
     "text": [
      "       단어  빈도\n",
      "0      천안  35\n",
      "1      노벨  24\n",
      "2      창업  14\n",
      "3      캠프  11\n",
      "4      충남  10\n",
      "5      프레   9\n",
      "6      웨이   9\n",
      "7      강원   8\n",
      "8      리솜   8\n",
      "9      컬처   8\n",
      "10     파크   7\n",
      "11    박람회   7\n",
      "12  독립기념관   7\n",
      "13   셔틀버스   7\n",
      "14     시즌   6\n",
      "15     세션   6\n",
      "16     성장   6\n",
      "17     식음   6\n",
      "18    서비스   6\n",
      "19   오션월드   6\n",
      "20     개최   6\n",
      "21    리조트   6\n",
      "22     학생   6\n",
      "23    브랜드   5\n",
      "24    스토어   5\n",
      "25     보증   5\n",
      "26     일간   5\n",
      "27     임시   5\n",
      "28    주차장   5\n",
      "29     운행   5\n",
      "30    대전대   5\n",
      "31     학년   5\n",
      "32     호텔   4\n",
      "33     비치   4\n",
      "34     서울   4\n",
      "35     홍천   4\n",
      "36     스플   4\n",
      "37     라스   4\n",
      "38     예산   4\n",
      "39     웰리   4\n",
      "40     힐리   4\n",
      "41     횡성   4\n",
      "42   포레스트   4\n",
      "43     충북   4\n",
      "44     팩트   4\n",
      "45     농협   4\n",
      "46     코스   4\n",
      "47     주차   4\n",
      "48     편의   4\n",
      "49     위해   4\n"
     ]
    }
   ],
   "source": []
  },
  {
   "cell_type": "code",
   "execution_count": null,
   "id": "2d974b80",
   "metadata": {},
   "outputs": [
    {
     "name": "stdout",
     "output_type": "stream",
     "text": [
      "https://search.daum.net/search?w=news&nil_search=btn&DA=PGD&enc=utf8&cluster=y&cluster_page=1&q=이월드&p=1\n",
      "https://search.daum.net/search?w=news&nil_search=btn&DA=PGD&enc=utf8&cluster=y&cluster_page=1&q=이월드&p=2\n"
     ]
    }
   ],
   "source": [
    "for keyword in keyword_list[:3]:\n",
    "    \n",
    "    titleList = []\n",
    "    \n",
    "    # 페이지 수 지정하여 for문 실행\n",
    "    for i in range(1, 4, 1):\n",
    "        url = f\"https://search.daum.net/search?w=news&nil_search=btn&DA=PGD&enc=utf8&cluster=y&cluster_page=1&q={keyword}&p={i}\"\n",
    "        print(url)\n",
    "        response = requests.get(url) # url 갖고오기\n",
    "        html = response.text # text만 갖고오기\n",
    "        soup = BeautifulSoup(html, 'html.parser') # 파싱하기\n",
    "        titles = soup.select(\"ul.c-list-basic\") # c-list-basic 클래스에서 ul에 묶여있는 요소들을 모두 갖고온다\n",
    "\n",
    "        #subtitles = soup.select(\"a.elss.sub_tit\")\n",
    "        for title in titles : # titles에서 title   # 갖고온 요소로 for문 실행\n",
    "            titleText = title.text # title.text만 추출\n",
    "            titleList.append(titleText) # titleList에 추가\n",
    "        \n",
    "        time.sleep(5)\n",
    "    \n",
    "    print(trans_dict(filtering_keyword(titleList)))\n",
    "        \n",
    "    print(\"-----구분선-----\")"
   ]
  },
  {
   "cell_type": "code",
   "execution_count": null,
   "id": "9d734a4d",
   "metadata": {},
   "outputs": [],
   "source": []
  }
 ],
 "metadata": {
  "kernelspec": {
   "display_name": "Python 3 (ipykernel)",
   "language": "python",
   "name": "python3"
  },
  "language_info": {
   "codemirror_mode": {
    "name": "ipython",
    "version": 3
   },
   "file_extension": ".py",
   "mimetype": "text/x-python",
   "name": "python",
   "nbconvert_exporter": "python",
   "pygments_lexer": "ipython3",
   "version": "3.9.12"
  }
 },
 "nbformat": 4,
 "nbformat_minor": 5
}
