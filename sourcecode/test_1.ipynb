{
 "cells": [
  {
   "cell_type": "code",
   "execution_count": 7,
   "metadata": {},
   "outputs": [
    {
     "name": "stdout",
     "output_type": "stream",
     "text": [
      "2\n",
      "3\n",
      "4\n",
      "5\n",
      "6\n",
      "7\n",
      "8\n",
      "9\n",
      "10\n",
      "11\n",
      "12\n",
      "13\n"
     ]
    },
    {
     "data": {
      "text/plain": [
       "9"
      ]
     },
     "execution_count": 7,
     "metadata": {},
     "output_type": "execute_result"
    }
   ],
   "source": [
    "a  = []\n",
    "for i in range(2,14):\n",
    "    a.append(i)\n",
    "    print(i)"
   ]
  },
  {
   "cell_type": "markdown",
   "metadata": {},
   "source": []
  },
  {
   "cell_type": "code",
   "execution_count": 8,
   "metadata": {},
   "outputs": [
    {
     "name": "stdout",
     "output_type": "stream",
     "text": [
      "12\n"
     ]
    }
   ],
   "source": [
    "count = 0\n",
    "\n",
    "for i in range(0,12):\n",
    "    count = count + 1\n",
    "\n",
    "print(count)"
   ]
  },
  {
   "cell_type": "code",
   "execution_count": 1,
   "metadata": {},
   "outputs": [
    {
     "name": "stdout",
     "output_type": "stream",
     "text": [
      "<Response [200]>\n"
     ]
    }
   ],
   "source": [
    "import requests\n",
    "from func_def import *\n",
    "url= 'http://apis.data.go.kr/B551011/KorService1/areaCode1'\n",
    "\n",
    "params = {\n",
    "'serviceKey': 'DuNAHD53YMihcAYk251OZibIu7IxjIwuoPP365VnntZyBrwmHQqRhdA3Ed%2BiLCH5oasIn9aZGKE7LcITX8mVeA%3D%3D',   # 발급받은 API 키\n",
    "'_type': 'json',         # 반환 타입 (json, xml)\n",
    "'numOfRows': '100',      # 한 페이지 결과 수\n",
    "'pageNo': '1',           # 페이지 번호\n",
    "'MobileApp': 'AppTest',  # 시/도 이름\n",
    "'MobileOS': 'ETC'        # 버전\n",
    "#'areaCode' : ''         # 지역코드     // 지역코드 미입력 - 광역시/도\n",
    "}\n",
    "\n",
    "response = requests.get(make_url(url, params), verify=False)\n",
    "print(response)\n",
    "\n",
    "\n"
   ]
  },
  {
   "cell_type": "code",
   "execution_count": 2,
   "metadata": {},
   "outputs": [
    {
     "data": {
      "text/plain": [
       "'{\"response\": {\"header\":{\"resultCode\":\"0000\",\"resultMsg\":\"OK\"},\"body\": {\"items\": {\"item\":[{\"rnum\":1,\"code\":\"1\",\"name\":\"서울\"},{\"rnum\":2,\"code\":\"2\",\"name\":\"인천\"},{\"rnum\":3,\"code\":\"3\",\"name\":\"대전\"},{\"rnum\":4,\"code\":\"4\",\"name\":\"대구\"},{\"rnum\":5,\"code\":\"5\",\"name\":\"광주\"},{\"rnum\":6,\"code\":\"6\",\"name\":\"부산\"},{\"rnum\":7,\"code\":\"7\",\"name\":\"울산\"},{\"rnum\":8,\"code\":\"8\",\"name\":\"세종특별자치시\"},{\"rnum\":9,\"code\":\"31\",\"name\":\"경기도\"},{\"rnum\":10,\"code\":\"32\",\"name\":\"강원특별자치도\"},{\"rnum\":11,\"code\":\"33\",\"name\":\"충청북도\"},{\"rnum\":12,\"code\":\"34\",\"name\":\"충청남도\"},{\"rnum\":13,\"code\":\"35\",\"name\":\"경상북도\"},{\"rnum\":14,\"code\":\"36\",\"name\":\"경상남도\"},{\"rnum\":15,\"code\":\"37\",\"name\":\"전북특별자치도\"},{\"rnum\":16,\"code\":\"38\",\"name\":\"전라남도\"},{\"rnum\":17,\"code\":\"39\",\"name\":\"제주도\"}]},\"numOfRows\":17,\"pageNo\":1,\"totalCount\":17}}}'"
      ]
     },
     "execution_count": 2,
     "metadata": {},
     "output_type": "execute_result"
    }
   ],
   "source": [
    "if response.status_code == 200:\n",
    "    make_csv(response.text, '광역시_도', 'location_info')\n",
    "else:\n",
    "    print(f'Error: {response.status_code}')"
   ]
  },
  {
   "cell_type": "code",
   "execution_count": 24,
   "metadata": {},
   "outputs": [
    {
     "data": {
      "text/plain": [
       "{'items': {'item': [{'rnum': 1, 'code': '1', 'name': '서울'},\n",
       "   {'rnum': 2, 'code': '2', 'name': '인천'},\n",
       "   {'rnum': 3, 'code': '3', 'name': '대전'},\n",
       "   {'rnum': 4, 'code': '4', 'name': '대구'},\n",
       "   {'rnum': 5, 'code': '5', 'name': '광주'},\n",
       "   {'rnum': 6, 'code': '6', 'name': '부산'},\n",
       "   {'rnum': 7, 'code': '7', 'name': '울산'},\n",
       "   {'rnum': 8, 'code': '8', 'name': '세종특별자치시'},\n",
       "   {'rnum': 9, 'code': '31', 'name': '경기도'},\n",
       "   {'rnum': 10, 'code': '32', 'name': '강원특별자치도'},\n",
       "   {'rnum': 11, 'code': '33', 'name': '충청북도'},\n",
       "   {'rnum': 12, 'code': '34', 'name': '충청남도'},\n",
       "   {'rnum': 13, 'code': '35', 'name': '경상북도'},\n",
       "   {'rnum': 14, 'code': '36', 'name': '경상남도'},\n",
       "   {'rnum': 15, 'code': '37', 'name': '전북특별자치도'},\n",
       "   {'rnum': 16, 'code': '38', 'name': '전라남도'},\n",
       "   {'rnum': 17, 'code': '39', 'name': '제주도'}]},\n",
       " 'numOfRows': 17,\n",
       " 'pageNo': 1,\n",
       " 'totalCount': 17}"
      ]
     },
     "execution_count": 24,
     "metadata": {},
     "output_type": "execute_result"
    }
   ],
   "source": [
    "data = json.loads(response.text)\n",
    "data\n",
    "\n",
    "data[\"response\"][\"body\"]\n"
   ]
  },
  {
   "cell_type": "code",
   "execution_count": 5,
   "metadata": {},
   "outputs": [
    {
     "data": {
      "text/plain": [
       "[{'rnum': 1, 'code': '1', 'name': '서울'},\n",
       " {'rnum': 2, 'code': '2', 'name': '인천'},\n",
       " {'rnum': 3, 'code': '3', 'name': '대전'},\n",
       " {'rnum': 4, 'code': '4', 'name': '대구'},\n",
       " {'rnum': 5, 'code': '5', 'name': '광주'},\n",
       " {'rnum': 6, 'code': '6', 'name': '부산'},\n",
       " {'rnum': 7, 'code': '7', 'name': '울산'},\n",
       " {'rnum': 8, 'code': '8', 'name': '세종특별자치시'},\n",
       " {'rnum': 9, 'code': '31', 'name': '경기도'},\n",
       " {'rnum': 10, 'code': '32', 'name': '강원특별자치도'},\n",
       " {'rnum': 11, 'code': '33', 'name': '충청북도'},\n",
       " {'rnum': 12, 'code': '34', 'name': '충청남도'},\n",
       " {'rnum': 13, 'code': '35', 'name': '경상북도'},\n",
       " {'rnum': 14, 'code': '36', 'name': '경상남도'},\n",
       " {'rnum': 15, 'code': '37', 'name': '전북특별자치도'},\n",
       " {'rnum': 16, 'code': '38', 'name': '전라남도'},\n",
       " {'rnum': 17, 'code': '39', 'name': '제주도'}]"
      ]
     },
     "execution_count": 5,
     "metadata": {},
     "output_type": "execute_result"
    }
   ],
   "source": [
    "items = data[\"response\"][\"body\"][\"items\"][\"item\"]\n",
    "# filtered_data = [{\"code\": item[\"code\"], \"name\": item[\"name\"]} for item in items]\n",
    "items"
   ]
  },
  {
   "cell_type": "code",
   "execution_count": 6,
   "metadata": {},
   "outputs": [
    {
     "data": {
      "text/plain": [
       "[{'code': '1', 'name': '서울'},\n",
       " {'code': '2', 'name': '인천'},\n",
       " {'code': '3', 'name': '대전'},\n",
       " {'code': '4', 'name': '대구'},\n",
       " {'code': '5', 'name': '광주'},\n",
       " {'code': '6', 'name': '부산'},\n",
       " {'code': '7', 'name': '울산'},\n",
       " {'code': '8', 'name': '세종특별자치시'},\n",
       " {'code': '31', 'name': '경기도'},\n",
       " {'code': '32', 'name': '강원특별자치도'},\n",
       " {'code': '33', 'name': '충청북도'},\n",
       " {'code': '34', 'name': '충청남도'},\n",
       " {'code': '35', 'name': '경상북도'},\n",
       " {'code': '36', 'name': '경상남도'},\n",
       " {'code': '37', 'name': '전북특별자치도'},\n",
       " {'code': '38', 'name': '전라남도'},\n",
       " {'code': '39', 'name': '제주도'}]"
      ]
     },
     "execution_count": 6,
     "metadata": {},
     "output_type": "execute_result"
    }
   ],
   "source": [
    "filtered_data = [{\"code\" : item[\"code\"], \"name\" : item[\"name\"]} for item in items] # items 안에있는 요소들을 item라는 변수에다 넣는다.\n",
    "filtered_data"
   ]
  },
  {
   "cell_type": "code",
   "execution_count": 22,
   "metadata": {},
   "outputs": [],
   "source": [
    "csv_file_path = '지역정보조회_광역시_도.csv'\n",
    "with open(csv_file_path, mode='a', newline='',encoding='utf-8')as csv_file:\n",
    "    csv_writer = csv.DictWriter(csv_file, fieldnames=[\"code\", \"name\"])\n",
    "\n",
    "    csv_file.seek(0,2)\n",
    "    file_empty = csv_file.tell() == 0 \n",
    "\n",
    "    if file_empty:\n",
    "        csv_writer.writeheader()\n",
    "    \n",
    "    for row in filtered_data:\n",
    "        csv_writer.writerow(row)"
   ]
  },
  {
   "cell_type": "code",
   "execution_count": null,
   "metadata": {},
   "outputs": [],
   "source": []
  },
  {
   "cell_type": "code",
   "execution_count": null,
   "metadata": {},
   "outputs": [],
   "source": []
  },
  {
   "cell_type": "code",
   "execution_count": null,
   "metadata": {},
   "outputs": [],
   "source": []
  },
  {
   "cell_type": "code",
   "execution_count": null,
   "metadata": {},
   "outputs": [],
   "source": []
  },
  {
   "cell_type": "code",
   "execution_count": null,
   "metadata": {},
   "outputs": [],
   "source": []
  },
  {
   "cell_type": "code",
   "execution_count": 8,
   "metadata": {},
   "outputs": [],
   "source": [
    "fileName = \"지역정보조회_광역시_도\"\n",
    "csv_file_path = f'{fileName}.csv'\n",
    "\n",
    "with open(csv_file_path, mode = 'w', newline='', encoding='utf-8') as csv_file:\n",
    "\n",
    "    csv_writer = csv.DictWriter(csv_file, fieldnames= [\"code\", \"name\"])\n",
    "\n",
    "    csv_file.seek(0,2)\n",
    "    file_empty = csv_file.tell() == 0\n",
    "\n",
    "    if file_empty:\n",
    "        csv_writer.writeheader()\n",
    "\n",
    "    for row in filtered_data:\n",
    "        csv_writer.writerow(row)\n",
    "\n"
   ]
  },
  {
   "cell_type": "code",
   "execution_count": 21,
   "metadata": {},
   "outputs": [],
   "source": [
    "import pandas as pd\n",
    "df = pd.read_csv('지역정보조회_광역시_도.csv', encoding='utf-8', index_col=0)"
   ]
  },
  {
   "cell_type": "code",
   "execution_count": 20,
   "metadata": {},
   "outputs": [
    {
     "data": {
      "text/html": [
       "<div>\n",
       "<style scoped>\n",
       "    .dataframe tbody tr th:only-of-type {\n",
       "        vertical-align: middle;\n",
       "    }\n",
       "\n",
       "    .dataframe tbody tr th {\n",
       "        vertical-align: top;\n",
       "    }\n",
       "\n",
       "    .dataframe thead th {\n",
       "        text-align: right;\n",
       "    }\n",
       "</style>\n",
       "<table border=\"1\" class=\"dataframe\">\n",
       "  <thead>\n",
       "    <tr style=\"text-align: right;\">\n",
       "      <th></th>\n",
       "      <th>name</th>\n",
       "    </tr>\n",
       "    <tr>\n",
       "      <th>code</th>\n",
       "      <th></th>\n",
       "    </tr>\n",
       "  </thead>\n",
       "  <tbody>\n",
       "    <tr>\n",
       "      <th>1</th>\n",
       "      <td>서울</td>\n",
       "    </tr>\n",
       "    <tr>\n",
       "      <th>2</th>\n",
       "      <td>인천</td>\n",
       "    </tr>\n",
       "    <tr>\n",
       "      <th>3</th>\n",
       "      <td>대전</td>\n",
       "    </tr>\n",
       "    <tr>\n",
       "      <th>4</th>\n",
       "      <td>대구</td>\n",
       "    </tr>\n",
       "    <tr>\n",
       "      <th>5</th>\n",
       "      <td>광주</td>\n",
       "    </tr>\n",
       "    <tr>\n",
       "      <th>6</th>\n",
       "      <td>부산</td>\n",
       "    </tr>\n",
       "    <tr>\n",
       "      <th>7</th>\n",
       "      <td>울산</td>\n",
       "    </tr>\n",
       "    <tr>\n",
       "      <th>8</th>\n",
       "      <td>세종특별자치시</td>\n",
       "    </tr>\n",
       "    <tr>\n",
       "      <th>31</th>\n",
       "      <td>경기도</td>\n",
       "    </tr>\n",
       "    <tr>\n",
       "      <th>32</th>\n",
       "      <td>강원특별자치도</td>\n",
       "    </tr>\n",
       "    <tr>\n",
       "      <th>33</th>\n",
       "      <td>충청북도</td>\n",
       "    </tr>\n",
       "    <tr>\n",
       "      <th>34</th>\n",
       "      <td>충청남도</td>\n",
       "    </tr>\n",
       "    <tr>\n",
       "      <th>35</th>\n",
       "      <td>경상북도</td>\n",
       "    </tr>\n",
       "    <tr>\n",
       "      <th>36</th>\n",
       "      <td>경상남도</td>\n",
       "    </tr>\n",
       "    <tr>\n",
       "      <th>37</th>\n",
       "      <td>전북특별자치도</td>\n",
       "    </tr>\n",
       "    <tr>\n",
       "      <th>38</th>\n",
       "      <td>전라남도</td>\n",
       "    </tr>\n",
       "    <tr>\n",
       "      <th>39</th>\n",
       "      <td>제주도</td>\n",
       "    </tr>\n",
       "  </tbody>\n",
       "</table>\n",
       "</div>"
      ],
      "text/plain": [
       "         name\n",
       "code         \n",
       "1          서울\n",
       "2          인천\n",
       "3          대전\n",
       "4          대구\n",
       "5          광주\n",
       "6          부산\n",
       "7          울산\n",
       "8     세종특별자치시\n",
       "31        경기도\n",
       "32    강원특별자치도\n",
       "33       충청북도\n",
       "34       충청남도\n",
       "35       경상북도\n",
       "36       경상남도\n",
       "37    전북특별자치도\n",
       "38       전라남도\n",
       "39        제주도"
      ]
     },
     "execution_count": 20,
     "metadata": {},
     "output_type": "execute_result"
    }
   ],
   "source": [
    "df"
   ]
  },
  {
   "cell_type": "code",
   "execution_count": null,
   "metadata": {},
   "outputs": [],
   "source": []
  },
  {
   "cell_type": "markdown",
   "metadata": {},
   "source": []
  }
 ],
 "metadata": {
  "kernelspec": {
   "display_name": "ds_study",
   "language": "python",
   "name": "python3"
  },
  "language_info": {
   "codemirror_mode": {
    "name": "ipython",
    "version": 3
   },
   "file_extension": ".py",
   "mimetype": "text/x-python",
   "name": "python",
   "nbconvert_exporter": "python",
   "pygments_lexer": "ipython3",
   "version": "3.8.18"
  }
 },
 "nbformat": 4,
 "nbformat_minor": 2
}
