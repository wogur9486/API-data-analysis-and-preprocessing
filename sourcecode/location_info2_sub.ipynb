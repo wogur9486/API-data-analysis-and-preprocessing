{
 "cells": [
  {
   "cell_type": "code",
   "execution_count": 39,
   "metadata": {},
   "outputs": [],
   "source": [
    "import json\n",
    "import csv\n",
    "import os\n",
    "\n",
    "\n",
    "\n",
    "def make_csv(data, fileName, info):\n",
    "    if (info =='location_search_info'):\n",
    "\n",
    "        data = json.loads(data)\n",
    "\n",
    "        items = data[\"response\"][\"body\"][\"items\"][\"item\"]\n",
    "        parsed_list = []\n",
    "\n",
    "        for item in items:\n",
    "            parsed_item = {\n",
    "                'title' : item[\"title\"],\n",
    "                'tel' : item[\"tel\"],\n",
    "                'mapx' : item[\"mapx\"],\n",
    "                \"mapy\" : item[\"mapy\"],\n",
    "                'dist' : item[\"dist\"],\n",
    "                'cat1' : item[\"cat1\"],\n",
    "                'cat2' : item[\"cat2\"],\n",
    "                'cat3' : item[\"cat3\"],\n",
    "                \"addr1\" : item[\"addr1\"],\n",
    "                \"addr2\" : item[\"addr2\"],\n",
    "                \"booktour\" : item[\"booktour\"],\n",
    "                \"contentid\" : item[\"contentid\"]\n",
    "            }\n",
    "            parsed_list.append(parsed_item)\n",
    " \n",
    "\n",
    "        csv_file_path = f'{fileName}.csv'\n",
    "\n",
    "        with open(csv_file_path, mode='w', newline='', encoding='utf-8') as csv_file:\n",
    "\n",
    "            csv_writer = csv.DictWriter(csv_file, fieldnames=[\"contentid\", \"title\", 'addr2', 'cat3', 'cat2', 'cat1', 'mapy', 'addr1', 'booktour', 'tel', 'dist', 'mapx'])\n",
    "\n",
    "            csv_writer.writeheader()\n",
    "\n",
    "            for row in parsed_list:\n",
    "                csv_writer.writerow(row)"
   ]
  },
  {
   "cell_type": "code",
   "execution_count": 21,
   "metadata": {},
   "outputs": [],
   "source": [
    "def make_url(url, params):\n",
    "\n",
    "    temp = '?'\n",
    "    count = 0\n",
    "\n",
    "    for i in params:\n",
    "        temp = temp + i + \"=\" + params[i]\n",
    "        count = count + 1\n",
    "\n",
    "        if count != (len(params)):\n",
    "            temp = temp + \"&\"\n",
    "    \n",
    "    return url + temp\n"
   ]
  },
  {
   "cell_type": "code",
   "execution_count": 33,
   "metadata": {},
   "outputs": [],
   "source": [
    "import requests\n",
    "\n",
    "url = \"http://apis.data.go.kr/B551011/KorService1/locationBasedList1\"\n",
    "\n",
    "mapX = '126.981611'\n",
    "\n",
    "mapY = '37.567477'\n",
    "\n",
    "radius = '1000'\n",
    "\n",
    "contentTypeId = '15'\n",
    "\n",
    "\n",
    "\n",
    "params = {\n",
    "    #필수\n",
    "    'serviceKey' : 'DuNAHD53YMihcAYk251OZibIu7IxjIwuoPP365VnntZyBrwmHQqRhdA3Ed%2BiLCH5oasIn9aZGKE7LcITX8mVeA%3D%3D',\n",
    "    'MobileApp' : 'AppTest',\n",
    "    'MobileOS' : 'ETC',\n",
    "    'mapX' : mapX,\n",
    "    'mapY' : mapY,\n",
    "    'radius' : radius,\n",
    "\n",
    "    #선택\n",
    "    'contentTypeId' : contentTypeId,\n",
    "    'listYN' : 'Y',\n",
    "    '_type' : 'json',\n",
    "    'numOfRows' : '10',\n",
    "    'pageNo' : '1'\n",
    "    }"
   ]
  },
  {
   "cell_type": "code",
   "execution_count": 34,
   "metadata": {},
   "outputs": [],
   "source": [
    "\n",
    "response = requests.get(make_url(url, params), verify=False)\n"
   ]
  },
  {
   "cell_type": "code",
   "execution_count": 35,
   "metadata": {},
   "outputs": [
    {
     "data": {
      "text/plain": [
       "<Response [200]>"
      ]
     },
     "execution_count": 35,
     "metadata": {},
     "output_type": "execute_result"
    }
   ],
   "source": [
    "response"
   ]
  },
  {
   "cell_type": "code",
   "execution_count": 36,
   "metadata": {},
   "outputs": [
    {
     "data": {
      "text/plain": [
       "'{\"response\": {\"header\":{\"resultCode\":\"0000\",\"resultMsg\":\"OK\"},\"body\": {\"items\": {\"item\":[{\"addr1\":\"서울특별시 중구 을지로5길 19 FERRUM TOWER\",\"addr2\":\"\",\"areacode\":\"1\",\"booktour\":\"\",\"cat1\":\"A02\",\"cat2\":\"A0208\",\"cat3\":\"A02081300\",\"contentid\":\"2997534\",\"contenttypeid\":\"15\",\"createdtime\":\"20230811092123\",\"dist\":\"228.14948203012207\",\"firstimage\":\"\",\"firstimage2\":\"\",\"cpyrhtDivCd\":\"\",\"mapx\":\"126.9841093855\",\"mapy\":\"37.5670070697\",\"mlevel\":\"6\",\"modifiedtime\":\"20230811092148\",\"sigungucode\":\"24\",\"tel\":\"02-708-2214\",\"title\":\"2023 KOPIS 공연예술 데이터 포럼\"},{\"addr1\":\"서울특별시 중구 남대문로 81 롯데백화점 본점\",\"addr2\":\"\",\"areacode\":\"1\",\"booktour\":\"\",\"cat1\":\"A02\",\"cat2\":\"A0208\",\"cat3\":\"A02081300\",\"contentid\":\"2986424\",\"contenttypeid\":\"15\",\"createdtime\":\"20230425133633\",\"dist\":\"299.36306777088055\",\"firstimage\":\"http://tong.visitkorea.or.kr/cms/resource/19/2986419_image2_1.jpg\",\"firstimage2\":\"http://tong.visitkorea.or.kr/cms/resource/19/2986419_image3_1.jpg\",\"cpyrhtDivCd\":\"Type3\",\"mapx\":\"126.9817485525\",\"mapy\":\"37.5647822864\",\"mlevel\":\"6\",\"modifiedtime\":\"20230425134005\",\"sigungucode\":\"24\",\"tel\":\"010-6218-9872\",\"title\":\"서울페스타 2023 명동 페스티벌\"},{\"addr1\":\"서울특별시 종로구 종로 54 보신각\",\"addr2\":\"\",\"areacode\":\"1\",\"booktour\":\"\",\"cat1\":\"A02\",\"cat2\":\"A0208\",\"cat3\":\"A02080100\",\"contentid\":\"2809535\",\"contenttypeid\":\"15\",\"createdtime\":\"20220307144537\",\"dist\":\"319.1086056235045\",\"firstimage\":\"http://tong.visitkorea.or.kr/cms/resource/29/2809529_image2_1.jpg\",\"firstimage2\":\"http://tong.visitkorea.or.kr/cms/resource/29/2809529_image2_1.jpg\",\"cpyrhtDivCd\":\"Type1\",\"mapx\":\"126.9836898995\",\"mapy\":\"37.5698206245\",\"mlevel\":\"6\",\"modifiedtime\":\"20240126104556\",\"sigungucode\":\"23\",\"tel\":\"02-120\",\"title\":\"남산봉수의식 등 전통문화 재현행사\"},{\"addr1\":\"서울특별시 중구 을지로 12 시청광장지하쇼핑센터\",\"addr2\":\"서울광장, 청계광장, 무교로 일대\",\"areacode\":\"1\",\"booktour\":\"\",\"cat1\":\"A02\",\"cat2\":\"A0207\",\"cat3\":\"A02070200\",\"contentid\":\"706180\",\"contenttypeid\":\"15\",\"createdtime\":\"20090314002712\",\"dist\":\"332.72376977536464\",\"firstimage\":\"http://tong.visitkorea.or.kr/cms/resource/04/2999304_image2_1.jpg\",\"firstimage2\":\"http://tong.visitkorea.or.kr/cms/resource/04/2999304_image3_1.jpg\",\"cpyrhtDivCd\":\"Type3\",\"mapx\":\"126.9787960237\",\"mapy\":\"37.5655015943\",\"mlevel\":\"6\",\"modifiedtime\":\"20240206130654\",\"sigungucode\":\"24\",\"tel\":\"02-3437-6455\",\"title\":\"서울거리예술축제\"},{\"addr1\":\"서울특별시 중구 을지로 12 시청광장지하쇼핑센터\",\"addr2\":\"서울광장\",\"areacode\":\"1\",\"booktour\":\"\",\"cat1\":\"A02\",\"cat2\":\"A0207\",\"cat3\":\"A02070200\",\"contentid\":\"1073801\",\"contenttypeid\":\"15\",\"createdtime\":\"20100813015633\",\"dist\":\"332.72376977536464\",\"firstimage\":\"http://tong.visitkorea.or.kr/cms/resource/64/3007864_image2_1.jpg\",\"firstimage2\":\"http://tong.visitkorea.or.kr/cms/resource/64/3007864_image3_1.jpg\",\"cpyrhtDivCd\":\"Type3\",\"mapx\":\"126.9787960237\",\"mapy\":\"37.5655015943\",\"mlevel\":\"6\",\"modifiedtime\":\"20240206130654\",\"sigungucode\":\"24\",\"tel\":\"054-680-6381\",\"title\":\"영양고추 H.O.T 페스티벌\"},{\"addr1\":\"서울특별시 중구 을지로 지하12 (을지로1가)\",\"addr2\":\"\",\"areacode\":\"1\",\"booktour\":\"\",\"cat1\":\"A02\",\"cat2\":\"A0208\",\"cat3\":\"A02081300\",\"contentid\":\"2598331\",\"contenttypeid\":\"15\",\"createdtime\":\"20190420005447\",\"dist\":\"332.72376977536464\",\"firstimage\":\"http://tong.visitkorea.or.kr/cms/resource/50/3116450_image2_1.jpg\",\"firstimage2\":\"http://tong.visitkorea.or.kr/cms/resource/50/3116450_image3_1.jpg\",\"cpyrhtDivCd\":\"Type3\",\"mapx\":\"126.9787960237\",\"mapy\":\"37.5655015943\",\"mlevel\":\"6\",\"modifiedtime\":\"20240507144420\",\"sigungucode\":\"24\",\"tel\":\"02-761-9898\",\"title\":\"2024 문화가 흐르는 서울광장\"},{\"addr1\":\"서울특별시 중구 을지로 지하12 (을지로1가)\",\"addr2\":\"\",\"areacode\":\"1\",\"booktour\":\"\",\"cat1\":\"A02\",\"cat2\":\"A0207\",\"cat3\":\"A02070200\",\"contentid\":\"2622167\",\"contenttypeid\":\"15\",\"createdtime\":\"20191002013354\",\"dist\":\"332.72376977536464\",\"firstimage\":\"http://tong.visitkorea.or.kr/cms/resource/08/3026008_image2_1.png\",\"firstimage2\":\"http://tong.visitkorea.or.kr/cms/resource/08/3026008_image3_1.png\",\"cpyrhtDivCd\":\"Type3\",\"mapx\":\"126.9787960237\",\"mapy\":\"37.5655015943\",\"mlevel\":\"6\",\"modifiedtime\":\"20231030102719\",\"sigungucode\":\"24\",\"tel\":\"대구경북능금농협 053-740-3033 \\\\u003cbr\\\\u003e경상북도 친환경농업과 054-880-3373\",\"title\":\"경상북도사과홍보행사\"},{\"addr1\":\"서울특별시 중구 소공로 106 서울 웨스틴조선호텔\",\"addr2\":\"\",\"areacode\":\"1\",\"booktour\":\"\",\"cat1\":\"A02\",\"cat2\":\"A0208\",\"cat3\":\"A02081300\",\"contentid\":\"2992563\",\"contenttypeid\":\"15\",\"createdtime\":\"20230704162245\",\"dist\":\"349.57180560553815\",\"firstimage\":\"\",\"firstimage2\":\"\",\"cpyrhtDivCd\":\"\",\"mapx\":\"126.9801987007\",\"mapy\":\"37.5645378422\",\"mlevel\":\"6\",\"modifiedtime\":\"20230704162300\",\"sigungucode\":\"24\",\"tel\":\"042-719-8043\",\"title\":\"제4회 수소경제와 한국의 수소기술 심포지엄\"},{\"addr1\":\"서울특별시 중구 소공로 106 서울 웨스틴조선호텔\",\"addr2\":\"\",\"areacode\":\"1\",\"booktour\":\"\",\"cat1\":\"A02\",\"cat2\":\"A0208\",\"cat3\":\"A02081300\",\"contentid\":\"2996803\",\"contenttypeid\":\"15\",\"createdtime\":\"20230802130652\",\"dist\":\"349.57180560553815\",\"firstimage\":\"\",\"firstimage2\":\"\",\"cpyrhtDivCd\":\"\",\"mapx\":\"126.9801987007\",\"mapy\":\"37.5645378422\",\"mlevel\":\"6\",\"modifiedtime\":\"20230802203438\",\"sigungucode\":\"24\",\"tel\":\"042-719-8043\",\"title\":\"제3회 그린암모니아 국제컨퍼런스\"},{\"addr1\":\"서울특별시 중구 태평로1가\",\"addr2\":\"1 청계광장\",\"areacode\":\"1\",\"booktour\":\"\",\"cat1\":\"A02\",\"cat2\":\"A0207\",\"cat3\":\"A02070200\",\"contentid\":\"3116057\",\"contenttypeid\":\"15\",\"createdtime\":\"20240430173238\",\"dist\":\"369.7531185621435\",\"firstimage\":\"http://tong.visitkorea.or.kr/cms/resource/47/3116047_image2_1.jpg\",\"firstimage2\":\"http://tong.visitkorea.or.kr/cms/resource/47/3116047_image3_1.jpg\",\"cpyrhtDivCd\":\"Type3\",\"mapx\":\"126.9780820941\",\"mapy\":\"37.5692400356\",\"mlevel\":\"6\",\"modifiedtime\":\"20240430173853\",\"sigungucode\":\"24\",\"tel\":\"02-730-2011\",\"title\":\"중앙아시아 봄맞이축제\"}]},\"numOfRows\":10,\"pageNo\":1,\"totalCount\":50}}}'"
      ]
     },
     "execution_count": 36,
     "metadata": {},
     "output_type": "execute_result"
    }
   ],
   "source": [
    "response.text"
   ]
  },
  {
   "cell_type": "code",
   "execution_count": 40,
   "metadata": {},
   "outputs": [],
   "source": [
    "if response.status_code ==200:\n",
    "    make_csv(response.text, '위치기반_관광정보_조회', 'location_search_info')\n",
    "else:\n",
    "    print(f'Error: {response.status_code}')"
   ]
  },
  {
   "cell_type": "code",
   "execution_count": null,
   "metadata": {},
   "outputs": [],
   "source": []
  },
  {
   "cell_type": "code",
   "execution_count": null,
   "metadata": {},
   "outputs": [],
   "source": []
  }
 ],
 "metadata": {
  "kernelspec": {
   "display_name": "ds_study",
   "language": "python",
   "name": "python3"
  },
  "language_info": {
   "codemirror_mode": {
    "name": "ipython",
    "version": 3
   },
   "file_extension": ".py",
   "mimetype": "text/x-python",
   "name": "python",
   "nbconvert_exporter": "python",
   "pygments_lexer": "ipython3",
   "version": "3.8.19"
  }
 },
 "nbformat": 4,
 "nbformat_minor": 2
}
