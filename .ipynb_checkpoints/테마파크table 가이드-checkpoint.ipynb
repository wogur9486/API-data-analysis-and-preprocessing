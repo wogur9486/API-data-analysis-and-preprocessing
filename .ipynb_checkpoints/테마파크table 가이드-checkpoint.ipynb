{
 "cells": [
  {
   "cell_type": "code",
   "execution_count": null,
   "id": "633c6585",
   "metadata": {},
   "outputs": [],
   "source": [
    "# import pandas as pd\n",
    "# import requests\n",
    "# from bs4 import BeautifulSoup\n",
    "# import seaborn as sns\n",
    "# import matplotlib.pyplot as plt\n",
    "# import os"
   ]
  },
  {
   "cell_type": "markdown",
   "id": "311f6a20",
   "metadata": {},
   "source": [
    "# 종합유원시설업.csv 불러오기"
   ]
  },
  {
   "cell_type": "code",
   "execution_count": null,
   "id": "723bd8e1",
   "metadata": {},
   "outputs": [],
   "source": []
  },
  {
   "cell_type": "markdown",
   "id": "98023e0c",
   "metadata": {},
   "source": [
    "# 필요한 컬럼만 갖고오기"
   ]
  },
  {
   "cell_type": "markdown",
   "id": "3a1aa70b",
   "metadata": {},
   "source": [
    "- 영업상태명, 상세영업상태코드, 상세영업상태명, 소재지전화, 소재지전체주소, 도로명전체주소, 사업장명"
   ]
  },
  {
   "cell_type": "code",
   "execution_count": null,
   "id": "ecd8331b",
   "metadata": {},
   "outputs": [],
   "source": []
  },
  {
   "cell_type": "code",
   "execution_count": null,
   "id": "7fb2bf75",
   "metadata": {},
   "outputs": [],
   "source": []
  },
  {
   "cell_type": "markdown",
   "id": "7c2e130b",
   "metadata": {},
   "source": [
    "# 영업중인 사업장만 갖고오기"
   ]
  },
  {
   "cell_type": "code",
   "execution_count": null,
   "id": "ec74f2ea",
   "metadata": {},
   "outputs": [],
   "source": []
  },
  {
   "cell_type": "code",
   "execution_count": null,
   "id": "074cac08",
   "metadata": {},
   "outputs": [],
   "source": []
  },
  {
   "cell_type": "markdown",
   "id": "a5b4bcbf",
   "metadata": {},
   "source": [
    "# nan값을 공백으로 바꾸기"
   ]
  },
  {
   "cell_type": "code",
   "execution_count": null,
   "id": "d1f29a1a",
   "metadata": {},
   "outputs": [],
   "source": []
  },
  {
   "cell_type": "code",
   "execution_count": null,
   "id": "3b10e425",
   "metadata": {},
   "outputs": [],
   "source": []
  },
  {
   "cell_type": "markdown",
   "id": "80fa8b11",
   "metadata": {},
   "source": [
    "# 새로운 \"동읍면\" 컬럼 생성하기"
   ]
  },
  {
   "cell_type": "markdown",
   "id": "95de0db5",
   "metadata": {},
   "source": [
    "- 소재지전체주소/도로명전체주소 참고"
   ]
  },
  {
   "cell_type": "code",
   "execution_count": null,
   "id": "1452ed74",
   "metadata": {},
   "outputs": [],
   "source": []
  },
  {
   "cell_type": "code",
   "execution_count": null,
   "id": "85a78eec",
   "metadata": {},
   "outputs": [],
   "source": []
  },
  {
   "cell_type": "code",
   "execution_count": null,
   "id": "1cec0a17",
   "metadata": {},
   "outputs": [],
   "source": []
  }
 ],
 "metadata": {
  "kernelspec": {
   "display_name": "Python 3 (ipykernel)",
   "language": "python",
   "name": "python3"
  },
  "language_info": {
   "codemirror_mode": {
    "name": "ipython",
    "version": 3
   },
   "file_extension": ".py",
   "mimetype": "text/x-python",
   "name": "python",
   "nbconvert_exporter": "python",
   "pygments_lexer": "ipython3",
   "version": "3.9.12"
  }
 },
 "nbformat": 4,
 "nbformat_minor": 5
}
