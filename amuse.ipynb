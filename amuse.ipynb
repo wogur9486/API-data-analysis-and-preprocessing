{
 "cells": [
  {
   "cell_type": "code",
   "execution_count": 2,
   "id": "eb78519d-065f-48cb-852d-f59a573f6be0",
   "metadata": {},
   "outputs": [
    {
     "name": "stdout",
     "output_type": "stream",
     "text": [
      "^C\n",
      "Collecting pandas\n",
      "  Downloading pandas-2.2.2-cp312-cp312-win_amd64.whl.metadata (19 kB)\n",
      "Requirement already satisfied: numpy>=1.26.0 in c:\\users\\도이\\appdata\\local\\programs\\python\\python312\\lib\\site-packages (from pandas) (1.26.4)\n",
      "Requirement already satisfied: python-dateutil>=2.8.2 in c:\\users\\도이\\appdata\\local\\programs\\python\\python312\\lib\\site-packages (from pandas) (2.9.0.post0)\n",
      "Collecting pytz>=2020.1 (from pandas)\n",
      "  Downloading pytz-2024.1-py2.py3-none-any.whl.metadata (22 kB)\n",
      "Collecting tzdata>=2022.7 (from pandas)\n",
      "  Downloading tzdata-2024.1-py2.py3-none-any.whl.metadata (1.4 kB)\n",
      "Requirement already satisfied: six>=1.5 in c:\\users\\도이\\appdata\\local\\programs\\python\\python312\\lib\\site-packages (from python-dateutil>=2.8.2->pandas) (1.16.0)\n",
      "Downloading pandas-2.2.2-cp312-cp312-win_amd64.whl (11.5 MB)\n",
      "   ---------------------------------------- 0.0/11.5 MB ? eta -:--:--\n",
      "    --------------------------------------- 0.2/11.5 MB 6.3 MB/s eta 0:00:02\n",
      "   -- ------------------------------------- 0.6/11.5 MB 8.0 MB/s eta 0:00:02\n",
      "   ---- ----------------------------------- 1.4/11.5 MB 11.3 MB/s eta 0:00:01\n",
      "   -------- ------------------------------- 2.5/11.5 MB 14.5 MB/s eta 0:00:01\n",
      "   ------------- -------------------------- 3.8/11.5 MB 18.6 MB/s eta 0:00:01\n",
      "   --------------- ------------------------ 4.3/11.5 MB 17.2 MB/s eta 0:00:01\n",
      "   ----------------- ---------------------- 5.0/11.5 MB 15.9 MB/s eta 0:00:01\n",
      "   -------------------- ------------------- 5.9/11.5 MB 17.1 MB/s eta 0:00:01\n",
      "   ----------------------- ---------------- 6.7/11.5 MB 17.1 MB/s eta 0:00:01\n",
      "   --------------------------- ------------ 8.0/11.5 MB 17.7 MB/s eta 0:00:01\n",
      "   ------------------------------- -------- 9.1/11.5 MB 18.9 MB/s eta 0:00:01\n",
      "   ------------------------------------ --- 10.5/11.5 MB 21.1 MB/s eta 0:00:01\n",
      "   ---------------------------------------  11.5/11.5 MB 21.8 MB/s eta 0:00:01\n",
      "   ---------------------------------------- 11.5/11.5 MB 20.5 MB/s eta 0:00:00\n",
      "Downloading pytz-2024.1-py2.py3-none-any.whl (505 kB)\n",
      "   ---------------------------------------- 0.0/505.5 kB ? eta -:--:--\n",
      "   --------------------------------------- 505.5/505.5 kB 33.0 MB/s eta 0:00:00\n",
      "Downloading tzdata-2024.1-py2.py3-none-any.whl (345 kB)\n",
      "   ---------------------------------------- 0.0/345.4 kB ? eta -:--:--\n",
      "   ---------------------------------------- 345.4/345.4 kB ? eta 0:00:00\n",
      "Installing collected packages: pytz, tzdata, pandas\n",
      "Successfully installed pandas-2.2.2 pytz-2024.1 tzdata-2024.1\n"
     ]
    }
   ],
   "source": [
    "!pip install pandas"
   ]
  },
  {
   "cell_type": "code",
   "execution_count": 5,
   "id": "31c08766",
   "metadata": {},
   "outputs": [],
   "source": [
    "import requests\n",
    "from bs4 import BeautifulSoup\n",
    "import re\n",
    "from konlpy.tag import Okt\n",
    "from collections import Counter\n",
    "import pandas as pd\n",
    "#from wordcloud import WordCloud\n",
    "#import matplotlib.pyplot as plt\n",
    "import time"
   ]
  },
  {
   "cell_type": "code",
   "execution_count": 6,
   "id": "cb2d5160",
   "metadata": {},
   "outputs": [],
   "source": [
    "# csv 갖고온 후 리스트 뽑기\n",
    "\n",
    "def read_csv():\n",
    "    amuse = pd.read_csv('data/pj1_amusementpark_01.csv', encoding='cp949', index_col=0)\n",
    "    \n",
    "    keyword_list=[]\n",
    "    \n",
    "    for keyword in amuse['place_name']:\n",
    "        #print(keyword)\n",
    "        keyword = keyword.replace(\" \", \"+\")\n",
    "        keyword_list.append(keyword)\n",
    "    \n",
    "    return keyword_list"
   ]
  },
  {
   "cell_type": "code",
   "execution_count": 7,
   "id": "873556ab",
   "metadata": {},
   "outputs": [
    {
     "data": {
      "text/plain": [
       "['이월드',\n",
       " '클럽디오아시스(CLUBD+OASIS)+스파&워터파크',\n",
       " '금오랜드',\n",
       " '상록랜드',\n",
       " '소노벨+천안',\n",
       " '(주)금호리조트아산스파비스',\n",
       " '호텔마스타+대천',\n",
       " '에버랜드',\n",
       " '캐리비안베이',\n",
       " '한국민속촌+가족공원',\n",
       " '9.81+PARK+JEJU',\n",
       " '경주월드주식회사+(경주지점)',\n",
       " '블루원+워터파크',\n",
       " '아쿠아필드+하남',\n",
       " '하니랜드',\n",
       " '주식회사+썬밸리',\n",
       " '유월드루지테마파크',\n",
       " '웰리힐리파크+워터플래닛',\n",
       " '웰리힐리파크+워터플래닛',\n",
       " '육림랜드',\n",
       " '레고랜드코리아',\n",
       " '용평피크아일랜드',\n",
       " '오션700',\n",
       " '(주)하이원추추파크',\n",
       " '하이원+워터월드',\n",
       " '신화테마파크',\n",
       " '신화워터파크',\n",
       " '롯데월드+어드벤처+부산',\n",
       " '(주)소노인터내셔널+오션월드',\n",
       " '한화리조트(주)+설악워터피아',\n",
       " '롯데리조트+속초+워터파크',\n",
       " '에이치제이디오션리조트+주식회사',\n",
       " '중흥골드스파&리조트',\n",
       " '테마파크+소풍',\n",
       " '대전오월드',\n",
       " '로봇랜드',\n",
       " '가야랜드',\n",
       " '오션어드벤처',\n",
       " '에이치제이디오션리조트+주식회사',\n",
       " '(주)서울랜드',\n",
       " '구미산업개발(주)+서울어린이대공원+놀이동산지점',\n",
       " '웅진플레이도시',\n",
       " '광주패밀리랜드(주)',\n",
       " '(주)롯데월드어드벤처',\n",
       " '워터킹덤',\n",
       " '(주)원마운트']"
      ]
     },
     "execution_count": 7,
     "metadata": {},
     "output_type": "execute_result"
    }
   ],
   "source": [
    "read_csv()"
   ]
  },
  {
   "cell_type": "code",
   "execution_count": null,
   "id": "b615c74c",
   "metadata": {},
   "outputs": [],
   "source": []
  }
 ],
 "metadata": {
  "kernelspec": {
   "display_name": "Python 3 (ipykernel)",
   "language": "python",
   "name": "python3"
  },
  "language_info": {
   "codemirror_mode": {
    "name": "ipython",
    "version": 3
   },
   "file_extension": ".py",
   "mimetype": "text/x-python",
   "name": "python",
   "nbconvert_exporter": "python",
   "pygments_lexer": "ipython3",
   "version": "3.12.3"
  }
 },
 "nbformat": 4,
 "nbformat_minor": 5
}
